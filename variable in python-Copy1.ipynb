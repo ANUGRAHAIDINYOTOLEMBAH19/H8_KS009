{
 "cells": [
  {
   "cell_type": "markdown",
   "id": "3ea634a7",
   "metadata": {},
   "source": [
    "VARIABLE IN PYTHON\n",
    "\n",
    "Variabel Python\n",
    "Variabel merupakan tempat penyimpanan data yang bersifat mutable, artinya nilainya bisa berubah-ubah. \n",
    "Variabel dalam python memiliki format penulisan nama_variabel = <nilai>. Variabel dapat berisi teks maupun bilangan.\n"
   ]
  },
  {
   "cell_type": "code",
   "execution_count": 1,
   "id": "78cd417f",
   "metadata": {},
   "outputs": [],
   "source": [
    "# contoh variable\n",
    "a = 1  #ini adalah contoh variable di mana 'a' adalah variable nya dan 1 adalah nilai bilangan atau teks yang ada di variable a \n",
    "b = 2  #ini adalah contoh variable di mana 'b' adalah variable nya dan 2 adalah nilai bilangan atau teks yang ada di variable b\n",
    "c = 3  #ini adalah contoh variable di mana 'c' adalah variable nya dan 3 adalah nilai bilangan atau teks yang ada di variable c "
   ]
  },
  {
   "cell_type": "code",
   "execution_count": 2,
   "id": "23d03775",
   "metadata": {},
   "outputs": [
    {
     "name": "stdout",
     "output_type": "stream",
     "text": [
      "300 300 300\n"
     ]
    }
   ],
   "source": [
    "a=b=c= 300\n",
    "print(a, b, c) "
   ]
  },
  {
   "cell_type": "code",
   "execution_count": 3,
   "id": "4ffa81e7",
   "metadata": {},
   "outputs": [
    {
     "name": "stdout",
     "output_type": "stream",
     "text": [
      "foofoofoofoo\n"
     ]
    }
   ],
   "source": [
    "s = 'foo'\n",
    "print(s * 4)"
   ]
  },
  {
   "cell_type": "markdown",
   "id": "40de1acd",
   "metadata": {},
   "source": [
    "A. VARIABLE ASSIGMENT \n",
    "   Variable Assigment adalah sebagai nama yang dilampirkan ke   \n",
    "   objek tertentu di python, variable tidak perlu dideklarasikan \n",
    "   atau didefinisikan sebelumnya, seperti halnya di banyak bahasa \n",
    "   pemograman lainnya. untuk membuat variable, kalian cukup  \n",
    "   menetapkan nilai dan bisa digunakan. variable assigment \n",
    "   dilakukan dengan satu tanda sama dengan (=)"
   ]
  },
  {
   "cell_type": "code",
   "execution_count": 4,
   "id": "c84cef81",
   "metadata": {},
   "outputs": [
    {
     "name": "stdout",
     "output_type": "stream",
     "text": [
      "300\n",
      "400\n"
     ]
    }
   ],
   "source": [
    "# EXAMPLE\n",
    "a = 300\n",
    "print(n)\n",
    "\n",
    "b = 400\n",
    "print(b)\n",
    "\n"
   ]
  },
  {
   "cell_type": "code",
   "execution_count": 5,
   "id": "8256914a",
   "metadata": {},
   "outputs": [
    {
     "name": "stdout",
     "output_type": "stream",
     "text": [
      "300 300 300\n"
     ]
    }
   ],
   "source": [
    "'''\n",
    "python juga memungkingkan chained assigment,\n",
    "yang memungkinkan untuk menetapkan nilai yang sama \n",
    "ke beberapa variable secara bersamaan :\n",
    "'''\n",
    "# example\n",
    "a = b = c = 300\n",
    "print(a, b, c)"
   ]
  },
  {
   "cell_type": "markdown",
   "id": "7ddc23d9",
   "metadata": {},
   "source": [
    "B. VARIABLE TYPES IN PYTHON\n",
    "   Dalam banyak bahasa pemograman, variable diketik secara statis, \n",
    "   artinya variable yang dideklarasikan diawal memiliki tipe data \n",
    "   tertentu, dan nilai apapun yang ditetapkan pada variable \n",
    "   tersebut selama masa pakainya haruss selalu memilki tipe itu.\n",
    "   \n",
    "   Variable dalam python berbeda dengan batasan ini. di python, \n",
    "   variable dapat diberi value dari satu jenis dan kemudian diberi \n",
    "   value dari jenis berbeda"
   ]
  },
  {
   "cell_type": "code",
   "execution_count": 7,
   "id": "0af4ab96",
   "metadata": {},
   "outputs": [
    {
     "name": "stdout",
     "output_type": "stream",
     "text": [
      "23.5\n",
      "Now I'm a string\n"
     ]
    }
   ],
   "source": [
    "# example \n",
    "variable_1 = 23.5\n",
    "print(variable_1)\n",
    "\n",
    "variable_2 = \"Now I'm a string\"\n",
    "print(variable_2)"
   ]
  },
  {
   "cell_type": "code",
   "execution_count": null,
   "id": "14fe3b9a",
   "metadata": {},
   "outputs": [],
   "source": [
    "C. VARIABLE NAMES IN PYTHON \n",
    "   secara resmi, nama varibale di python bisa berapa pun panjangnya \n",
    "    dan bisa terdiri dari huruf besar dan huruf kecil(A-Z, a-z), digit(0-9), dan karakter garis bawah(_).\n",
    "    Batasan tambahan adalah bahwa, meskipun nama variable dapat berisi angka, karakter pertama dari nama variable tidak boleh berupa digit/angka\n"
   ]
  },
  {
   "cell_type": "code",
   "execution_count": 8,
   "id": "36a2438c",
   "metadata": {},
   "outputs": [
    {
     "name": "stdout",
     "output_type": "stream",
     "text": [
      "Hackti8 54 True\n"
     ]
    }
   ],
   "source": [
    "# example\n",
    "\n",
    "name = \"Hackti8\"\n",
    "Age = 54\n",
    "has_laptops = True\n",
    "\n",
    "print(name, Age, has_laptops)"
   ]
  },
  {
   "cell_type": "code",
   "execution_count": null,
   "id": "e8f9f9c0",
   "metadata": {},
   "outputs": [],
   "source": [
    "# nama variable tidak boleh dimulai dengan angka :\n",
    "# example\n",
    "9_kepala_naga = True  #format variable seperti ini tidak di perbolehkan karna tidak boleh menuliskan variable dimulai dengan angka\n",
    "\n"
   ]
  },
  {
   "cell_type": "code",
   "execution_count": 9,
   "id": "c6a1c93e",
   "metadata": {},
   "outputs": [
    {
     "name": "stdout",
     "output_type": "stream",
     "text": [
      "1 2 3 4 5 6 7 8\n"
     ]
    }
   ],
   "source": [
    "'''\n",
    "perhatikan bahwa case disini sangat berperan. \n",
    "huruf kecil dan huruf besar tidak sama. \n",
    "penggunaan karakter garis bawah juga penting. m\n",
    "asing masing dari berikut ini mendefinisikan variable yang berbeda :\n",
    "'''\n",
    "# example :\n",
    "\n",
    "age = 1\n",
    "Age = 2\n",
    "aGe = 3\n",
    "AGE = 4\n",
    "a_g_e = 5\n",
    "_age = 6\n",
    "age_ = 7\n",
    "_AGE_ = 8\n",
    "\n",
    "print(age, Age, aGe, AGE, a_g_e, _age, age_, _AGE_)"
   ]
  },
  {
   "cell_type": "code",
   "execution_count": null,
   "id": "fafecac8",
   "metadata": {},
   "outputs": [],
   "source": [
    "'''\n",
    "di sisi lain, belum tentu semua dapat terbaca. penamaan variable\n",
    "adalah masalah preferensi pribadi, tetapi kebanyakan orang akan\n",
    "menganggap dua contoh pertama, dimana semua huruf disatukan,\n",
    "lebih sulit untuk dibaca, terutama yang menggunakan huruf kapital semua\n",
    "metode yang paling umum digunakan untuk membuat nama variable \n",
    "multi-kata adalah tiga contoh dibawah ini :\n",
    "\n",
    "1. CAMEL CASE \n",
    "   Gaya penulisan Camel Case biasanya sering digunakan pada pemrograman berorientasikan objek atau OOP.\n",
    "\n",
    "   Cirinya, semua suku kata menyatu dan terdapat huruf kapital untuk memisahnya.\n",
    "\n",
    "   Hal tersebut membuatnya terlihat seperti punggung onta. Karena itu, gaya ini disebut Camel Case.\n",
    "\n",
    "   example :\n",
    "   TheQuickBrownFoxJumpsOverTheLazyDog\n",
    "   iniPenulisanCamelCase();\n",
    "   NamaClass\n",
    "   namaVariabel\n",
    "   iPhone\n",
    "   eBay\n",
    "   camelCase\n",
    "\n",
    "2. SNAKE CASE :\n",
    "   Gaya penulisan case yang ini cirinya menggunakan garis bawah atau underscore (_).\n",
    "\n",
    "   Suku kata dipisahkan dengan garis bawah sehingga membentuk sebuah ular.\n",
    "\n",
    "   Karena itu, gaya ini disebut Snake Case.\n",
    "   \n",
    "   example :\n",
    "   ini_penulisan_snake_case();\n",
    "   The_quick_brown_fox_jumps_over_the_lazy_dog\n",
    "   nama_variabel\n",
    "   Nama_class\n",
    "   Anugrah_Aidin_Yotolembah\n",
    "\n",
    "3. PARSIAL CASE :\n",
    "   example :\n",
    "   DidiGanteng\n",
    "\n",
    "gunakan salah satu dari ketiganya yang paling menarik secara visual bagi kalian. pilih satu dan gunakan secara konsisten.\n",
    "\n",
    "\n",
    "'''"
   ]
  },
  {
   "cell_type": "code",
   "execution_count": null,
   "id": "b1030995",
   "metadata": {},
   "outputs": [],
   "source": []
  }
 ],
 "metadata": {
  "kernelspec": {
   "display_name": "Python 3 (ipykernel)",
   "language": "python",
   "name": "python3"
  },
  "language_info": {
   "codemirror_mode": {
    "name": "ipython",
    "version": 3
   },
   "file_extension": ".py",
   "mimetype": "text/x-python",
   "name": "python",
   "nbconvert_exporter": "python",
   "pygments_lexer": "ipython3",
   "version": "3.9.12"
  }
 },
 "nbformat": 4,
 "nbformat_minor": 5
}
