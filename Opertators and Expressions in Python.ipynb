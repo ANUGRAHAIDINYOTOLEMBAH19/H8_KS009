{
 "cells": [
  {
   "cell_type": "markdown",
   "id": "e082051d",
   "metadata": {},
   "source": [
    "A. Opertators and Expressions in Python\n",
    "\n",
    "di Python, operators adalah simbol khusus yang menunjukkan bahwa suatu jenis komputasi harus dilakukan. nilai di tindaklanjuti oleh operatos disebut operans\n"
   ]
  },
  {
   "cell_type": "code",
   "execution_count": 4,
   "id": "45da3699",
   "metadata": {},
   "outputs": [
    {
     "name": "stdout",
     "output_type": "stream",
     "text": [
      "30\n",
      "25\n"
     ]
    }
   ],
   "source": [
    "# example operators and expressions in python\n",
    "\n",
    "a = 10\n",
    "b = 20\n",
    "\n",
    "print(a+b)\n",
    "# dalam kasus ini, operators + menjumlahkan operands a dan b. \n",
    "# operand dapat berupa nilai literal atau variable yang\n",
    "# mereferensikan objek\n",
    "\n",
    "print(a+b-5)\n",
    "# urutan operan dan operator, seperti a + b - 5, disebut expression.\n",
    "# python mendukung banya operator untuk menggabukan objek data menjadi expression\n",
    "\n",
    "\n"
   ]
  },
  {
   "cell_type": "markdown",
   "id": "9a69f440",
   "metadata": {},
   "source": [
    "B. Arithmetic Operators\n",
    "   Arithmetic Operators adalah operator aritmatika yang dapat di    aplikasi ke dalam bahasa pemograman python\n"
   ]
  },
  {
   "cell_type": "code",
   "execution_count": 5,
   "id": "ee80aff7",
   "metadata": {},
   "outputs": [
    {
     "name": "stdout",
     "output_type": "stream",
     "text": [
      "7\n",
      "1\n",
      "12\n",
      "1.3333333333333333\n",
      "1\n",
      "64\n"
     ]
    }
   ],
   "source": [
    "# here are some examples of these operators in use :\n",
    "\n",
    "a = 4\n",
    "b = 3\n",
    "\n",
    "print(a + b) #penjumlahan\n",
    "print(a - b) #pengurangan\n",
    "print(a * b) #perkalian\n",
    "print(a / b) #pembagian\n",
    "print(a % b) #modulo\n",
    "print(a ** b) #pangkat"
   ]
  },
  {
   "cell_type": "markdown",
   "id": "17548b50",
   "metadata": {},
   "source": [
    "C. COMPARISON OPERATOR (perbandingan operasi)"
   ]
  },
  {
   "cell_type": "code",
   "execution_count": 6,
   "id": "3c71d139",
   "metadata": {},
   "outputs": [
    {
     "name": "stdout",
     "output_type": "stream",
     "text": [
      "False\n",
      "True\n",
      "True\n",
      "False\n"
     ]
    }
   ],
   "source": [
    "# here are examples of the comparison operators in use :\n",
    "\n",
    "a = 10 \n",
    "b = 20\n",
    "\n",
    "print(a == b)\n",
    "print(a != b)\n",
    "print(a <= b)\n",
    "print(a >= b)"
   ]
  },
  {
   "cell_type": "markdown",
   "id": "4e9c35b0",
   "metadata": {},
   "source": [
    "D. STRING MANIPULATION\n",
    "   "
   ]
  },
  {
   "cell_type": "code",
   "execution_count": 11,
   "id": "002d66d3",
   "metadata": {},
   "outputs": [
    {
     "name": "stdout",
     "output_type": "stream",
     "text": [
      "anugrahaidin\n",
      "anugrahaidinyotolembah\n",
      "hacktiv8indonesia\n"
     ]
    }
   ],
   "source": [
    "# example + operators\n",
    "\n",
    "s = 'anugrah'\n",
    "t = 'aidin'\n",
    "u = 'yotolembah'\n",
    "\n",
    "print(s + t)\n",
    "print(s + t + u)\n",
    "\n",
    "print('hacktiv8' + 'indonesia')"
   ]
  },
  {
   "cell_type": "code",
   "execution_count": 13,
   "id": "c9f9c044",
   "metadata": {},
   "outputs": [
    {
     "name": "stdout",
     "output_type": "stream",
     "text": [
      "didididididididi\n"
     ]
    }
   ],
   "source": [
    "# example * operators\n",
    "\n",
    "s = 'didi'\n",
    "\n",
    "print(s * 4)"
   ]
  },
  {
   "cell_type": "code",
   "execution_count": 14,
   "id": "e363b7a1",
   "metadata": {},
   "outputs": [
    {
     "name": "stdout",
     "output_type": "stream",
     "text": [
      "True\n",
      "False\n"
     ]
    }
   ],
   "source": [
    "#in operators\n",
    "\n",
    "s = 'foo'\n",
    "\n",
    "print(s in 'that food for us')\n",
    "print(s in 'that good for us')"
   ]
  },
  {
   "cell_type": "code",
   "execution_count": 17,
   "id": "f9352b48",
   "metadata": {},
   "outputs": [
    {
     "name": "stdout",
     "output_type": "stream",
     "text": [
      "Hacktiv8\n",
      "hacktiv8\n",
      "hACKtiv8\n",
      "Hacktiv8\n",
      "HACKTIV8\n"
     ]
    }
   ],
   "source": [
    "# case conversion\n",
    "\n",
    "s = 'HackTIV8'\n",
    "\n",
    "# Capitalize\n",
    "print(s.capitalize())\n",
    "\n",
    "# Lower\n",
    "print(s.lower())\n",
    "\n",
    "# Swapcase\n",
    "print(s.swapcase())\n",
    "\n",
    "# Title\n",
    "print(s.title())\n",
    "\n",
    "# Uppercase\n",
    "print(s.upper())\n"
   ]
  },
  {
   "cell_type": "code",
   "execution_count": null,
   "id": "081e8085",
   "metadata": {},
   "outputs": [],
   "source": []
  }
 ],
 "metadata": {
  "kernelspec": {
   "display_name": "Python 3 (ipykernel)",
   "language": "python",
   "name": "python3"
  },
  "language_info": {
   "codemirror_mode": {
    "name": "ipython",
    "version": 3
   },
   "file_extension": ".py",
   "mimetype": "text/x-python",
   "name": "python",
   "nbconvert_exporter": "python",
   "pygments_lexer": "ipython3",
   "version": "3.9.12"
  }
 },
 "nbformat": 4,
 "nbformat_minor": 5
}
